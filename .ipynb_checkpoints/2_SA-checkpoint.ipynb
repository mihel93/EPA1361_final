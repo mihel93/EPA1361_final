{
 "cells": [
  {
   "cell_type": "markdown",
   "metadata": {},
   "source": [
    "## 1. Open Exploartion"
   ]
  },
  {
   "cell_type": "code",
   "execution_count": 1,
   "metadata": {},
   "outputs": [
    {
     "data": {
      "text/plain": [
       "<Logger EMA (DEBUG)>"
      ]
     },
     "execution_count": 1,
     "metadata": {},
     "output_type": "execute_result"
    }
   ],
   "source": [
    "# Import libraries\n",
    "import numpy as np\n",
    "import scipy as sp\n",
    "import pandas as pd\n",
    "import matplotlib.pyplot as plt\n",
    "import seaborn as sns\n",
    "import networkx as nx\n",
    "\n",
    "# Import workbench libraries and the model itself\n",
    "from ema_workbench import (Model, CategoricalParameter, ScalarOutcome, IntegerParameter, RealParameter)\n",
    "from ema_workbench import (MultiprocessingEvaluator, Policy, Scenario, SequentialEvaluator)\n",
    "from ema_workbench.em_framework.evaluators import perform_experiments\n",
    "from ema_workbench.em_framework.samplers import sample_uncertainties\n",
    "from ema_workbench.util import ema_logging, utilities\n",
    "from ema_workbench import save_results\n",
    "from ema_workbench import load_results\n",
    "\n",
    "from problem_formulation_new import get_model_for_problem_formulation\n",
    "from dike_model_function import DikeNetwork \n",
    "\n",
    "import time\n",
    "\n",
    "ema_logging.log_to_stderr(ema_logging.INFO)"
   ]
  },
  {
   "cell_type": "code",
   "execution_count": null,
   "metadata": {},
   "outputs": [],
   "source": []
  },
  {
   "cell_type": "code",
   "execution_count": 2,
   "metadata": {},
   "outputs": [],
   "source": [
    "# Import case function\n",
    "#choose problem formulation number, between 0-6\n",
    "\n",
    "# 8 objectives PF\n",
    "dike_model, planning_steps = get_model_for_problem_formulation(6)\n",
    "\n",
    "def sum_over(*args):\n",
    "    return sum(args)"
   ]
  },
  {
   "cell_type": "code",
   "execution_count": 2,
   "metadata": {},
   "outputs": [],
   "source": []
  },
  {
   "cell_type": "code",
   "execution_count": 3,
   "metadata": {},
   "outputs": [],
   "source": [
    "# Define the base case policy, which sets all the levers that are present within the dike_model to zero.\n",
    "\n",
    "\n",
    "from ema_workbench import Policy\n",
    "\n",
    "policies = [Policy('policy_0', **{'0_RfR 0':0, '0_RfR 1':0, '0_RfR 2':0,\n",
    "                                  '1_RfR 0':0, '1_RfR 1':0, '1_RfR 2':0,\n",
    "                                  '2_RfR 0':0, '2_RfR 1':0, '2_RfR 2':0,\n",
    "                                  '3_RfR 0':0, '3_RfR 1':0, '3_RfR 2':0,\n",
    "                                  '4_RfR 0':0, '4_RfR 1':0, '4_RfR 2':0,\n",
    "                                  'A.1_DikeIncrease 0':0,\n",
    "                                  'A.2_DikeIncrease 0':0,\n",
    "                                  'A.3_DikeIncrease 0':0,\n",
    "                                  'A.4_DikeIncrease 0':0,\n",
    "                                  'A.5_DikeIncrease 0':0,\n",
    "                                  'EWS_DaysToThreat':0}),\n",
    "           Policy('policy_1',  **{'0_RfR 0':1, '0_RfR 1':1, '0_RfR 2':1,\n",
    "                                  '1_RfR 0':0, '1_RfR 1':0, '1_RfR 2':0,\n",
    "                                  '2_RfR 0':0, '2_RfR 1':0, '2_RfR 2':0,\n",
    "                                  '3_RfR 0':0, '3_RfR 1':0, '3_RfR 2':0,\n",
    "                                  '4_RfR 0':1, '4_RfR 1':1, '4_RfR 2':1,\n",
    "                                  'A.1_DikeIncrease 0':0,\n",
    "                                  'A.2_DikeIncrease 0':10,\n",
    "                                  'A.3_DikeIncrease 0':0,\n",
    "                                  'A.4_DikeIncrease 0':0,\n",
    "                                  'A.5_DikeIncrease 0':0,\n",
    "                                  'EWS_DaysToThreat':0}),\n",
    "           Policy('policy_2',  **{'0_RfR 0':1, '0_RfR 1':1, '0_RfR 2':1,\n",
    "                                  '1_RfR 0':0, '1_RfR 1':0, '1_RfR 2':0,\n",
    "                                  '2_RfR 0':1, '2_RfR 1':1, '2_RfR 2':1,\n",
    "                                  '3_RfR 0':0, '3_RfR 1':0, '3_RfR 2':0,\n",
    "                                  '4_RfR 0':0, '4_RfR 1':0, '4_RfR 2':0,\n",
    "                                  'A.1_DikeIncrease 0':0,\n",
    "                                  'A.2_DikeIncrease 0':10,\n",
    "                                  'A.3_DikeIncrease 0':10,\n",
    "                                  'A.4_DikeIncrease 0':0,\n",
    "                                  'A.5_DikeIncrease 0':5,\n",
    "                                  'EWS_DaysToThreat':2}),\n",
    "            Policy('policy_3', **{'0_RfR 0':1, '0_RfR 1':1, '0_RfR 2':1,\n",
    "                                  '1_RfR 0':1, '1_RfR 1':1, '1_RfR 2':1,\n",
    "                                  '2_RfR 0':1, '2_RfR 1':1, '2_RfR 2':1,\n",
    "                                  '3_RfR 0':1, '3_RfR 1':1, '3_RfR 2':1,\n",
    "                                  '4_RfR 0':1, '4_RfR 1':1, '4_RfR 2':1,\n",
    "                                  'A.1_DikeIncrease 0':10,\n",
    "                                  'A.2_DikeIncrease 0':10,\n",
    "                                  'A.3_DikeIncrease 0':10,\n",
    "                                  'A.4_DikeIncrease 0':10,\n",
    "                                  'A.5_DikeIncrease 0':10,\n",
    "                                  'EWS_DaysToThreat':4})]\n",
    "\n",
    "# #Running the experiments (commented out)\n",
    "# with MultiprocessingEvaluator(dike_model, n_processes = 8) as evaluator:\n",
    "#      results = evaluator.perform_experiments(scenarios=5, policies=policies, uncertainty_sampling=LHS )\n",
    "\n",
    "\n",
    "# utilities.save_results(results, 'results/5000ScenariosNoPolicyPF5.csv')\n",
    "# experiments, outcomes = results\n",
    "\n",
    "# # Load in the results from the CSV we had saved from running the experiments\n",
    "# #results = utilities.load_results('results/5000ScenariosNoPolicyPF5.csv')\n",
    "# #experiments, outcomes = results\n",
    "\n",
    "# # We create a 'combined' dataframe, in which the experiments and outcomes are merged within one pandas dataframe.\n",
    "# df_outcomes = pd.DataFrame(outcomes)\n",
    "# combined = pd.concat([experiments,df_outcomes],axis=1,sort=False)\n",
    "\n",
    "# combined.head()"
   ]
  },
  {
   "cell_type": "code",
   "execution_count": 4,
   "metadata": {},
   "outputs": [],
   "source": [
    "from specify import specify_levers\n",
    "policy0 = Policy('policy_0', **specify_levers(0,0,0,0,0,0,0,0,0,0,0)) # DO NOTHING\n",
    "policy1 = Policy('policy_1', **specify_levers(0,10,0,0,0,1,0,0,0,1,0)) # DO DIKES at A1, A3\n",
    "policy2 = Policy('policy_2', **specify_levers(0,10,10,0,5,1,0,1,0,0,2)) # DO DIKES at A1, A2, A3, A5\n",
    "policy3 = Policy('policy_3', **specify_levers(10,10,10,10,10,1,1,1,1,1,4)) # DO EVERYTHING\n",
    "n_policies = 4\n",
    "policies = [policy0, policy1, policy2, policy3]"
   ]
  },
  {
   "cell_type": "code",
   "execution_count": null,
   "metadata": {},
   "outputs": [],
   "source": []
  },
  {
   "cell_type": "code",
   "execution_count": null,
   "metadata": {},
   "outputs": [
    {
     "name": "stderr",
     "output_type": "stream",
     "text": [
      "[MainProcess/INFO] pool started\n",
      "[MainProcess/INFO] performing 1 scenarios * 4 policies * 1 model(s) = 4 experiments\n"
     ]
    }
   ],
   "source": [
    "n_scenarios = 1\n",
    "start = time.time()\n",
    "with MultiprocessingEvaluator(dike_model, n_processes = 8) as evaluator:\n",
    "     results = evaluator.perform_experiments(n_scenarios, policies)\n",
    "end = time.time()\n",
    "print('Simulation time is ' + str(round((end - start)/60)) + ' mintues')"
   ]
  },
  {
   "cell_type": "code",
   "execution_count": null,
   "metadata": {},
   "outputs": [],
   "source": [
    "file_name = 'open_exploration_' + str(n_scenarios) + 'k_' + str(n_policies) + 'pol_' + str(n_objectives) + 'obj' + '.tar.gz'\n",
    "save_results(results, file_name)\n",
    "results = load_results(file_name)"
   ]
  },
  {
   "cell_type": "code",
   "execution_count": null,
   "metadata": {},
   "outputs": [],
   "source": [
    "experiments, outcomes = results\n",
    "n_scenarios = len(experiments) / n_policies"
   ]
  },
  {
   "cell_type": "code",
   "execution_count": null,
   "metadata": {},
   "outputs": [],
   "source": [
    "# Overall\n",
    "pd.DataFrame(outcomes).describe()"
   ]
  },
  {
   "cell_type": "code",
   "execution_count": null,
   "metadata": {},
   "outputs": [],
   "source": [
    "# 8 oobjectives PF\n",
    "results = load_results('open_exploration_10k_4pol_8obj.tar.gz')"
   ]
  }
 ],
 "metadata": {
  "kernelspec": {
   "display_name": "Python 3",
   "language": "python",
   "name": "python3"
  },
  "language_info": {
   "codemirror_mode": {
    "name": "ipython",
    "version": 3
   },
   "file_extension": ".py",
   "mimetype": "text/x-python",
   "name": "python",
   "nbconvert_exporter": "python",
   "pygments_lexer": "ipython3",
   "version": "3.7.8"
  }
 },
 "nbformat": 4,
 "nbformat_minor": 4
}
